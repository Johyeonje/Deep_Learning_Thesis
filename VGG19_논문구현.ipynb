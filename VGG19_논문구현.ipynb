{
  "nbformat": 4,
  "nbformat_minor": 0,
  "metadata": {
    "colab": {
      "name": "VGG19_논문구현.ipynb",
      "provenance": [],
      "collapsed_sections": [],
      "mount_file_id": "166gZjOqj7hDdy5HH7HI12qzNqx5Nvl8k",
      "authorship_tag": "ABX9TyOqAOxwfOlC7ReeB0RRu68E",
      "include_colab_link": true
    },
    "kernelspec": {
      "name": "python3",
      "display_name": "Python 3"
    },
    "accelerator": "GPU"
  },
  "cells": [
    {
      "cell_type": "markdown",
      "metadata": {
        "id": "view-in-github",
        "colab_type": "text"
      },
      "source": [
        "<a href=\"https://colab.research.google.com/github/Johyeonje/Deep_Learning_Thesis/blob/master/VGG19_%EB%85%BC%EB%AC%B8%EA%B5%AC%ED%98%84.ipynb\" target=\"_parent\"><img src=\"https://colab.research.google.com/assets/colab-badge.svg\" alt=\"Open In Colab\"/></a>"
      ]
    },
    {
      "cell_type": "code",
      "metadata": {
        "id": "Q5NLk8XcJ6NC",
        "colab_type": "code",
        "colab": {}
      },
      "source": [
        "import tensorflow as tf\n",
        "from tensorflow import keras\n",
        "import numpy as np\n",
        "import matplotlib.pyplot as plt\n",
        "import cv2\n",
        "import os\n",
        "import glob\n",
        "import random\n",
        "import sklearn"
      ],
      "execution_count": null,
      "outputs": []
    },
    {
      "cell_type": "code",
      "metadata": {
        "id": "Mdl76ABFRo5q",
        "colab_type": "code",
        "colab": {}
      },
      "source": [
        "# !tar -xvf '/content/path.tar'\n",
        "# !tar -zxvf '/content/path.tar.gz'"
      ],
      "execution_count": null,
      "outputs": []
    },
    {
      "cell_type": "code",
      "metadata": {
        "id": "Pjvq4i3FKoO7",
        "colab_type": "code",
        "colab": {}
      },
      "source": [
        "# !wget http://cs231n.stanford.edu/tiny-imagenet-200.zip"
      ],
      "execution_count": null,
      "outputs": []
    },
    {
      "cell_type": "code",
      "metadata": {
        "id": "sDYCoc0U9fyV",
        "colab_type": "code",
        "colab": {}
      },
      "source": [
        "# !unzip tiny-imagenet-200.zip"
      ],
      "execution_count": null,
      "outputs": []
    },
    {
      "cell_type": "code",
      "metadata": {
        "id": "QLr6nH6uKALZ",
        "colab_type": "code",
        "colab": {}
      },
      "source": [
        "def load_data(data_path):\n",
        "  data_lists = glob.glob(data_path+'*')\n",
        "  filename_dict = dict()\n",
        "  filename_dicts = dict()\n",
        "  tmp = []\n",
        "  count = 0\n",
        "  for data_list in data_lists:\n",
        "    id = os.path.basename(data_list)\n",
        "    #id = data_list.split('/n')[1]\n",
        "    image_path = os.path.join(data_list, 'images')\n",
        "    image_set = glob.glob(image_path+'/*.JPEG')\n",
        "    filename_dict[id] = image_set\n",
        "\n",
        "  for i, (k, v) in enumerate(filename_dict.items()):\n",
        "    filename_dicts[i] = filename_dict.get(k)\n",
        "  \n",
        "\n",
        "  return filename_dicts"
      ],
      "execution_count": null,
      "outputs": []
    },
    {
      "cell_type": "code",
      "metadata": {
        "id": "DQz8wU_Sbc7D",
        "colab_type": "code",
        "colab": {}
      },
      "source": [
        "def make_batch(dataset, size, mode = cv2.IMREAD_COLOR):\n",
        "  train_X = []\n",
        "  train_Y = []\n",
        "  mean = np.array([0.0, 0.0, 0.0])\n",
        "  for key, value in dataset.items():\n",
        "    label = np.zeros(200, dtype=np.float32)\n",
        "    label[key] = 1\n",
        "    for i, v in enumerate(value):\n",
        "      image = cv2.imread(v, mode).astype(np.float32)\n",
        "      \n",
        "      # if image.shape[0] < 56 or image.shape[1] < 56:\n",
        "      #   tmp = image.shape[0] if (image.shape[0] < image.shape[1]) else image.shape[1]\n",
        "      #   image = image[0:tmp, 0:tmp]\n",
        "      #   image = cv2.resize(image, dsize=(56,56))\n",
        "      # else:\n",
        "      #   top = random.randint(0,image.shape[0]-56)\n",
        "      #   left = random.randint(0,image.shape[1]-56)\n",
        "      #   image = image[top:top+56, left:left+56]\n",
        "      \n",
        "      image = image / 255.0\n",
        "      train_X.append(image)\n",
        "      train_Y.append(label)\n",
        "      if i >= size:\n",
        "        break\n",
        "\n",
        "  train_X = np.array(train_X)\n",
        "  train_Y = np.array(train_Y)\n",
        "  normalize_data(train_X)\n",
        "  print('Shape of trainX : ', train_X.shape)\n",
        "  print('Shape of trainY : ', train_Y.shape)\n",
        "\n",
        "  return train_X, train_Y"
      ],
      "execution_count": null,
      "outputs": []
    },
    {
      "cell_type": "code",
      "metadata": {
        "id": "ZFcg56sj9reO",
        "colab_type": "code",
        "colab": {}
      },
      "source": [
        "# o = [[[[1,1],[1,1],[1,1],[1,1]],[[2,2],[2,2],[2,2],[2,2]],[[3,3],[3,3],[3,3],[3,3]],[[4,4],[4,4],[4,4],[4,4]]],\n",
        "#      [[[1000,5],[1000,5],[5,5],[5,5]],[[6,6],[6,6],[6,6],[6,6]],[[7,7],[7,7],[7,7],[7,7]],[[8,8],[8,8],[8,8],[8,8]]],\n",
        "#      [[[1,1],[1,1],[1,1],[1,1]],[[2,2],[2,2],[2,2],[2,2]],[[3,3],[3,3],[3,3],[3,3]],[[4,4],[4,4],[4,4],[4,4]]]]\n",
        "# o = np.array(o)\n",
        "# print(o.shape)\n",
        "# qq = np.sum(o, axis=(1,2,3))\n",
        "# print(qq)\n",
        "# qq = qq/(o.shape[0]*4*4)\n",
        "# print(qq)"
      ],
      "execution_count": null,
      "outputs": []
    },
    {
      "cell_type": "code",
      "metadata": {
        "id": "MSg_88OSKDLq",
        "colab_type": "code",
        "colab": {}
      },
      "source": [
        "def build_model():\n",
        "  model = tf.keras.Sequential([\n",
        "        # tf.keras.layers.Conv2D(input_shape=(64,64,3), kernel_size=(3,3), padding='same',filters=64, activation='relu', dtype=tf.float32),\n",
        "        # tf.keras.layers.Conv2D(kernel_size=(3,3), filters=64, padding='same', activation='relu', dtype=tf.float32),\n",
        "        # tf.keras.layers.MaxPool2D(pool_size=(2,2), strides=(2,2), dtype=tf.float32),\n",
        "\n",
        "        # tf.keras.layers.Conv2D(kernel_size=(3,3), filters=128, padding='same', activation='relu', dtype=tf.float32),\n",
        "        # tf.keras.layers.Conv2D(kernel_size=(3,3), filters=128, padding='same', activation='relu', dtype=tf.float32),\n",
        "        # tf.keras.layers.MaxPool2D(pool_size=(2,2), strides=(2,2), dtype=tf.float32),\n",
        "\n",
        "        # tf.keras.layers.Conv2D(kernel_size=(3,3), filters=256, padding='same', activation='relu', dtype=tf.float32),\n",
        "        # tf.keras.layers.Conv2D(kernel_size=(3,3), filters=256, padding='same', activation='relu', dtype=tf.float32),\n",
        "        # tf.keras.layers.Conv2D(kernel_size=(3,3), filters=256, padding='same', activation='relu', dtype=tf.float32),\n",
        "        # tf.keras.layers.Conv2D(kernel_size=(3,3), filters=256, padding='same', activation='relu', dtype=tf.float32),\n",
        "        # tf.keras.layers.MaxPool2D(pool_size=(2,2), strides=(2,2), dtype=tf.float32),\n",
        "\n",
        "        # tf.keras.layers.Conv2D(kernel_size=(3,3), filters=512, padding='same', activation='relu', dtype=tf.float32),\n",
        "        # tf.keras.layers.Conv2D(kernel_size=(3,3), filters=512, padding='same', activation='relu', dtype=tf.float32),\n",
        "        # tf.keras.layers.Conv2D(kernel_size=(3,3), filters=512, padding='same', activation='relu', dtype=tf.float32),\n",
        "        # tf.keras.layers.Conv2D(kernel_size=(3,3), filters=512, padding='same', activation='relu', dtype=tf.float32),\n",
        "        # tf.keras.layers.MaxPool2D(pool_size=(2,2), strides=(2,2), dtype=tf.float32),\n",
        "\n",
        "        # tf.keras.layers.Conv2D(kernel_size=(3,3), filters=512, padding='same', activation='relu', dtype=tf.float32),\n",
        "        # tf.keras.layers.Conv2D(kernel_size=(3,3), filters=512, padding='same', activation='relu', dtype=tf.float32),\n",
        "        # tf.keras.layers.Conv2D(kernel_size=(3,3), filters=512, padding='same', activation='relu', dtype=tf.float32),\n",
        "        # tf.keras.layers.Conv2D(kernel_size=(3,3), filters=512, padding='same', activation='relu', dtype=tf.float32),\n",
        "        # tf.keras.layers.MaxPool2D(pool_size=(2,2), strides=(2,2), dtype=tf.float32),\n",
        "        \n",
        "        # tf.keras.layers.Flatten(),\n",
        "        # tf.keras.layers.Dense(units=4096, activation='relu', kernel_regularizer=keras.regularizers.l2(0.0005), dtype=tf.float32),\n",
        "        # tf.keras.layers.Dense(units=4096, activation='relu', kernel_regularizer=keras.regularizers.l2(0.0005), dtype=tf.float32),\n",
        "        # tf.keras.layers.Dense(units=4096, activation='relu', dtype=tf.float32),\n",
        "        # tf.keras.layers.Dense(units=4096, activation='relu', dtype=tf.float32),\n",
        "        # tf.keras.layers.Dropout(rate=0.5),\n",
        "        # tf.keras.layers.Dense(units=200, activation='softmax', dtype=tf.float32)\n",
        "\n",
        "        tf.keras.layers.Conv2D(input_shape=(64,64,3), kernel_size=(3,3), padding='same',filters=64, activation='relu', dtype=tf.float32),\n",
        "        tf.keras.layers.Conv2D(kernel_size=(3,3), filters=64, padding='same', activation='relu', dtype=tf.float32),\n",
        "        tf.keras.layers.MaxPool2D(pool_size=(2,2), strides=(2,2), dtype=tf.float32),\n",
        "\n",
        "        \n",
        "        tf.keras.layers.Conv2D(kernel_size=(3,3), filters=128, padding='same', activation='relu', dtype=tf.float32),\n",
        "        tf.keras.layers.Conv2D(kernel_size=(3,3), filters=128, padding='same', activation='relu', dtype=tf.float32),\n",
        "        tf.keras.layers.MaxPool2D(pool_size=(2,2), strides=(2,2), dtype=tf.float32),\n",
        "\n",
        "\n",
        "        tf.keras.layers.Conv2D(kernel_size=(3,3), filters=256, padding='same', activation='relu', dtype=tf.float32),\n",
        "        tf.keras.layers.Conv2D(kernel_size=(3,3), filters=256, padding='same', activation='relu', dtype=tf.float32),\n",
        "        tf.keras.layers.MaxPool2D(pool_size=(2,2), strides=(2,2), dtype=tf.float32),\n",
        "\n",
        "        tf.keras.layers.Flatten(),\n",
        "        tf.keras.layers.Dense(units=512, activation='relu', dtype=tf.float32),\n",
        "        tf.keras.layers.Dense(units=512, activation='relu', dtype=tf.float32),\n",
        "        tf.keras.layers.Dropout(rate=0.5),\n",
        "        tf.keras.layers.Dense(units=200, activation='softmax', dtype=tf.float32)\n",
        "\n",
        "  ])\n",
        "  return model"
      ],
      "execution_count": null,
      "outputs": []
    },
    {
      "cell_type": "code",
      "metadata": {
        "id": "4a6_OF5P0h7q",
        "colab_type": "code",
        "colab": {}
      },
      "source": [
        "def normalize_data(x):\n",
        "  sum = np.zeros(shape=[3], dtype=np.float32)\n",
        "  for img in x:\n",
        "    sum += np.sum(img, axis=(0, 1))\n",
        "  mean = sum / (x.shape[0] * 4 * 4)\n",
        "  print(mean)\n",
        "  return x - mean"
      ],
      "execution_count": null,
      "outputs": []
    },
    {
      "cell_type": "code",
      "metadata": {
        "id": "DioT6Cr97NIW",
        "colab_type": "code",
        "colab": {
          "base_uri": "https://localhost:8080/",
          "height": 71
        },
        "outputId": "188c2b95-c303-4e1c-f82e-17f73a3d4d9b"
      },
      "source": [
        "train_X = []\n",
        "train_Y = []\n",
        "train_data_path = '/content/tiny-imagenet-200/train/'\n",
        "train_dataset = load_data(train_data_path)\n",
        "train_X, train_Y = make_batch(train_dataset, 200)\n",
        "train_X, train_Y = sklearn.utils.shuffle(train_X, train_Y)"
      ],
      "execution_count": null,
      "outputs": [
        {
          "output_type": "stream",
          "text": [
            "[101.78322139 114.71363184 122.99946517]\n",
            "Shape of trainX :  (40200, 64, 64, 3)\n",
            "Shape of trainY :  (40200, 200)\n"
          ],
          "name": "stdout"
        }
      ]
    },
    {
      "cell_type": "code",
      "metadata": {
        "id": "4koFW4w7KEMi",
        "colab_type": "code",
        "colab": {}
      },
      "source": [
        "model = build_model()\n",
        "learning_rate = tf.keras.optimizers.schedules.PolynomialDecay(\n",
        "    initial_learning_rate=0.001,\n",
        "    decay_steps=10,\n",
        "    end_learning_rate=0.0001\n",
        ")\n",
        "\n",
        "optimizer = tf.optimizers.Adam(learning_rate)\n",
        "loss_fn = tf.keras.losses.BinaryCrossentropy(from_logits=False)\n",
        "model.compile(optimizer=optimizer, loss=loss_fn, metrics=['accuracy'])"
      ],
      "execution_count": null,
      "outputs": []
    },
    {
      "cell_type": "code",
      "metadata": {
        "id": "6hWRsbx9HClw",
        "colab_type": "code",
        "colab": {}
      },
      "source": [
        "history = model.fit(train_X, train_Y, epochs=100, validation_split=0.25, batch_size=32)"
      ],
      "execution_count": null,
      "outputs": []
    },
    {
      "cell_type": "code",
      "metadata": {
        "id": "LUdrgXW74jZf",
        "colab_type": "code",
        "colab": {
          "base_uri": "https://localhost:8080/",
          "height": 283
        },
        "outputId": "5498cde1-293d-4cee-f7c4-6fcff3fd8634"
      },
      "source": [
        "plt.figure(figsize=(12,4))\n",
        "plt.subplot(1,2,1)\n",
        "plt.plot(history.history['loss'], 'b-', label='loss')\n",
        "plt.plot(history.history['val_loss'], 'r--', label='val_loss')\n",
        "plt.xlabel('Epoch')\n",
        "plt.legend()\n",
        "\n",
        "plt.subplot(1,2,2)\n",
        "plt.plot(history.history['accuracy'], 'g-', label='accuracy')\n",
        "plt.plot(history.history['val_accuracy'], 'k--', label='val_accuracy')\n",
        "plt.xlabel('Epoch')\n",
        "plt.ylim(0, 1.0)\n",
        "plt.legend()\n",
        "\n",
        "plt.show()"
      ],
      "execution_count": null,
      "outputs": [
        {
          "output_type": "display_data",
          "data": {
            "image/png": "[encoded data removed]",
            "text/plain": [
              "<Figure size 864x288 with 2 Axes>"
            ]
          },
          "metadata": {
            "tags": [],
            "needs_background": "light"
          }
        }
      ]
    },
    {
      "cell_type": "markdown",
      "metadata": {
        "id": "RJL5twqKLu3K",
        "colab_type": "text"
      },
      "source": [
        "#고찰"
      ]
    },
    {
      "cell_type": "markdown",
      "metadata": {
        "id": "0hOZIqfC5Ej_",
        "colab_type": "text"
      },
      "source": [
        "1. 이전에 data path에 대해 dict 형식으로 불러와서 train_X와 Y를 생성하는 작업에 대해 경험이 있어 어렵지 않았다.    \n",
        "하지만 데이터양이 많아지자 RAM 용량의 초과로 세션이 다운되는 현상이 발생하였다.    \n",
        "이를 통해서 학습 데이터의 구성에 fit을 따로 함수로 구현하여서 batch size 만큼 씩 이미지를 불러오는 방식의 중요성을 알았다.    \n",
        "2. 데이터를 드라이브에 저장하여서 불러오는 방식을 사용했었는데,   \n",
        "!wget(web get)을 사용하여 다운로드 링크를 불러와 데이터 로드하는 방식에 대해 알게되었다.\n",
        "3. 데이터의 전처리 과정에서 로스의 단위가 천만에서 억 단위로 증가하는 현상이 발생했는데,   \n",
        "이는 cv2.imread를 통해 이미지를 불러오고 32bit 실수형으로 변환하는 방식으로 해결하였다.\n",
        "4. 전처리를 모두 적용하고 학습데이터의 정규화와 레이블링이 모두 제대로 되었다고 생각해서 학습을 진행했지만    \n",
        "valid accuracy은 0에서 상승하지 않고 train loss는 0.315에 고정된 현상이 발생했다.   \n",
        "이에 학습률을 변경, 드랍아웃을 제외 등 다양한 하이퍼파라미터 변경을 해보고,    \n",
        "맥스풀링을 제외하는 등 구조를 변경해 보았지만 큰 차이가 없었다.    \n",
        "이에 모델의 깊이와 파라미터의 갯수가 학습 데이터의 양(레이블 별 500장의 64*64 픽셀 크기의 이미지)이 너무 작다고 판단하여    \n",
        "모델의 층의 갯수를 19개에서 7개로 줄인 다음 테스트하자 train loss가 정상적으로 줄어드는 것을 확인했다.    \n",
        "하지만, valid loss는 줄어들지 않는 전형적인 과적합의 현상을 보여서 보다 깊은 모델로 다시 테스팅해야한다고 생각했다."
      ]
    },
    {
      "cell_type": "code",
      "metadata": {
        "id": "HoHCOfrb-B9B",
        "colab_type": "code",
        "colab": {}
      },
      "source": [
        ""
      ],
      "execution_count": null,
      "outputs": []
    }
  ]
}